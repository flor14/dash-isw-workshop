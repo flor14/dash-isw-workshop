import dash
from dash import html, dcc
from jupyter_dash import JupyterDash
import plotly.express as px
import dash_bootstrap_components as dbb

# Import irish dataset
df = px.data.iris()

# Create plotly plot
plotly_fig = px.scatter(df,
                        x="sepal_width", 
                        y="sepal_length",
                        color="species",
                        size='petal_length',
                        hover_data=['petal_width'])


app = JupyterDash(__name__, external_stylesheets=[dbb.themes.QUARTZ])

app.layout = html.Div([

    html.H1('A Plotly plot in Dash App'),
    html.H3('ISW workshop - December 2021'),
    dcc.Graph(figure= plotly_fig, style={'width': '70vh', 'height': '50hv'})

])


if __name__ == "__main__":
    app.run_server(mode="jupyterlab")
  





